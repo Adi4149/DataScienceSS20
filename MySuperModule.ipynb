{
  "nbformat": 4,
  "nbformat_minor": 0,
  "metadata": {
    "colab": {
      "name": "MySuperModule.ipynb",
      "provenance": [],
      "collapsed_sections": [],
      "authorship_tag": "ABX9TyPbBWv9xEN/maSLqiSfWbUI",
      "include_colab_link": true
    },
    "kernelspec": {
      "name": "python3",
      "display_name": "Python 3"
    }
  },
  "cells": [
    {
      "cell_type": "markdown",
      "metadata": {
        "id": "view-in-github",
        "colab_type": "text"
      },
      "source": [
        "<a href=\"https://colab.research.google.com/github/Adi4149/DataScienceSS20/blob/master/MySuperModule.ipynb\" target=\"_parent\"><img src=\"https://colab.research.google.com/assets/colab-badge.svg\" alt=\"Open In Colab\"/></a>"
      ]
    },
    {
      "cell_type": "code",
      "metadata": {
        "id": "AYtqUNasTHl-",
        "colab_type": "code",
        "outputId": "31ccc933-f1e5-458d-9d45-dab252407318",
        "colab": {
          "base_uri": "https://localhost:8080/",
          "height": 123
        }
      },
      "source": [
        "#check if notebook runs in colab\n",
        "import sys\n",
        "IN_COLAB = 'google.colab' in sys.modules\n",
        "print('running in Colab:',IN_COLAB)\n",
        "path='..'\n",
        "if IN_COLAB:\n",
        "  #in colab, we need to clone the data from the repo\n",
        "  !git clone https://github.com/keuperj/DataScienceSS20.git\n",
        "  path='DataScienceSS20'"
      ],
      "execution_count": 1,
      "outputs": [
        {
          "output_type": "stream",
          "text": [
            "running in Colab: True\n",
            "Cloning into 'DataScienceSS20'...\n",
            "remote: Enumerating objects: 151, done.\u001b[K\n",
            "remote: Total 151 (delta 0), reused 0 (delta 0), pack-reused 151\u001b[K\n",
            "Receiving objects: 100% (151/151), 27.49 MiB | 17.87 MiB/s, done.\n",
            "Resolving deltas: 100% (64/64), done.\n"
          ],
          "name": "stdout"
        }
      ]
    },
    {
      "cell_type": "markdown",
      "metadata": {
        "id": "MMTmsLEjG9hs",
        "colab_type": "text"
      },
      "source": [
        "The class \"ListKeeper\" consists of two lists. One for the listnames and one for the lists. The list \"Storage\" consists of further lists, whitch includes the values. So the index of a name in \"Listnames\" and the index of the belonging list in \"Storage\" are always the same. \n",
        "The sort() method of ListKeeper creates a copy of the \"Listnames\" and print it, so the \"Listnames list\" will not be changed. Thats nessesary for the equality of the indicies of the names and the belonging lists. "
      ]
    },
    {
      "cell_type": "code",
      "metadata": {
        "id": "IfqvBTTPTOek",
        "colab_type": "code",
        "colab": {}
      },
      "source": [
        "class ListKeeper:                             # create a new class\n",
        "    \"stores named lists\"                      # information about the class\n",
        "    Listnames = []                            # initialisation \n",
        "    Storage = []\n",
        "    def __init__ (self):\n",
        "      example = [1,2,3,4,5]                   # create example list\n",
        "      self.add('Example',example)             # call of own function -> add the example list\n",
        "    def show(self):                           \n",
        "      for element in self.Listnames:          # print all Listnames\n",
        "        print(element)\n",
        "    def add(self, name, list):                # add a List\n",
        "      self.Listnames.append(name)             # add the Listname \n",
        "      #i = len(self.Storage)\n",
        "      #self.Storage.insert([0][i],name)\n",
        "      #self.Storage[0].append(name)\n",
        "      self.Storage.append(list)               # add the List into the Storage\n",
        "    def delete(self, name):\n",
        "      i = self.Listnames.index(name)          # get the index of the list to delete\n",
        "      self.Listnames.remove(name)             # remove the Listname out of Listnames \n",
        "      self.Storage.pop(i)\n",
        "      #self.Storage[1].pop(i)                 # remove the List out of the Storage\n",
        "    def sort(self):                           # print the sorted Listnames\n",
        "      kopie = self.Listnames.copy()           # create a copy of the listnames\n",
        "      kopie.sort()                            # sort the copy \n",
        "      for element in kopie:                   # print the sorted copy\n",
        "        print(element)\n",
        "    def append(self, name, list):             # extend the spezified list (name) by the given list (list)\n",
        "      self.Storage[self.Listnames.index(name)].extend(list)"
      ],
      "execution_count": 0,
      "outputs": []
    },
    {
      "cell_type": "code",
      "metadata": {
        "id": "N1m_tPEZ5N4_",
        "colab_type": "code",
        "colab": {
          "base_uri": "https://localhost:8080/",
          "height": 176
        },
        "outputId": "9714dd47-1193-4b98-8c68-3fa7edfce985"
      },
      "source": [
        "lk1 = ListKeeper()\n",
        "Zahlen = [1,2,3]\n",
        "Buchstaben = ['a','b','c']\n",
        "lk1.add('Zahlen',Zahlen)\n",
        "lk1.add('Buchstaben',Buchstaben)\n",
        "#lk1.delete('example')\n",
        "#lk1.show()\n",
        "print(lk1.Listnames)\n",
        "print(lk1.Storage)\n",
        "print(\"sort\")\n",
        "lk1.sort()\n",
        "print(\"append the list 'Zahlen' by the list 'Zahlen'\")\n",
        "lk1.append('Zahlen',Zahlen)\n",
        "print(lk1.Listnames)\n",
        "print(lk1.Storage)"
      ],
      "execution_count": 3,
      "outputs": [
        {
          "output_type": "stream",
          "text": [
            "['Example', 'Zahlen', 'Buchstaben']\n",
            "[[1, 2, 3, 4, 5], [1, 2, 3], ['a', 'b', 'c']]\n",
            "sort\n",
            "Buchstaben\n",
            "Example\n",
            "Zahlen\n",
            "append the list 'Zahlen' by the list 'Zahlen'\n",
            "['Example', 'Zahlen', 'Buchstaben']\n",
            "[[1, 2, 3, 4, 5], [1, 2, 3, 1, 2, 3], ['a', 'b', 'c']]\n"
          ],
          "name": "stdout"
        }
      ]
    },
    {
      "cell_type": "code",
      "metadata": {
        "id": "zpJg9jQYeG5S",
        "colab_type": "code",
        "colab": {
          "base_uri": "https://localhost:8080/",
          "height": 310
        },
        "outputId": "a0cfa6ce-45c4-42da-fe4c-0dd363a6a097"
      },
      "source": [
        "import MySuperModule"
      ],
      "execution_count": 7,
      "outputs": [
        {
          "output_type": "error",
          "ename": "ModuleNotFoundError",
          "evalue": "ignored",
          "traceback": [
            "\u001b[0;31m---------------------------------------------------------------------------\u001b[0m",
            "\u001b[0;31mModuleNotFoundError\u001b[0m                       Traceback (most recent call last)",
            "\u001b[0;32m<ipython-input-7-350ad8a57d98>\u001b[0m in \u001b[0;36m<module>\u001b[0;34m()\u001b[0m\n\u001b[0;32m----> 1\u001b[0;31m \u001b[0;32mimport\u001b[0m \u001b[0mMySuperModule\u001b[0m\u001b[0;34m\u001b[0m\u001b[0;34m\u001b[0m\u001b[0m\n\u001b[0m",
            "\u001b[0;31mModuleNotFoundError\u001b[0m: No module named 'MySuperModule'",
            "",
            "\u001b[0;31m---------------------------------------------------------------------------\u001b[0;32m\nNOTE: If your import is failing due to a missing package, you can\nmanually install dependencies using either !pip or !apt.\n\nTo view examples of installing some common dependencies, click the\n\"Open Examples\" button below.\n\u001b[0;31m---------------------------------------------------------------------------\u001b[0m\n"
          ]
        }
      ]
    },
    {
      "cell_type": "code",
      "metadata": {
        "id": "pT1kk3gsMf9C",
        "colab_type": "code",
        "colab": {}
      },
      "source": [
        ""
      ],
      "execution_count": 0,
      "outputs": []
    }
  ]
}